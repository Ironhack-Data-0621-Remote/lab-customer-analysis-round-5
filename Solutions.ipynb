{
 "cells": [
  {
   "cell_type": "markdown",
   "id": "934ae21a",
   "metadata": {},
   "source": [
    "# Lab | Customer Analysis Round 5\n",
    "\n",
    "For this lab, we still keep using the `marketing_customer_analysis.csv` file that you can find in the `files_for_lab` folder.\n"
   ]
  },
  {
   "cell_type": "markdown",
   "id": "64392f33",
   "metadata": {},
   "source": [
    "### 1. Get the data\n",
    "\n",
    "We are using the `marketing_customer_analysis.csv` file.\n"
   ]
  },
  {
   "cell_type": "code",
   "execution_count": 229,
   "id": "02f0dcba",
   "metadata": {},
   "outputs": [],
   "source": [
    "import pandas as pd\n",
    "import numpy as np\n",
    "import matplotlib.pyplot as plt\n",
    "import seaborn as sns\n",
    "from scipy import stats\n",
    "from sklearn.preprocessing import Normalizer\n",
    "from sklearn.preprocessing import StandardScaler\n",
    "import statsmodels.api as sm\n",
    "\n",
    "import warnings\n",
    "warnings.filterwarnings('ignore') "
   ]
  },
  {
   "cell_type": "code",
   "execution_count": 230,
   "id": "ac73ced1",
   "metadata": {},
   "outputs": [
    {
     "data": {
      "text/html": [
       "<div>\n",
       "<style scoped>\n",
       "    .dataframe tbody tr th:only-of-type {\n",
       "        vertical-align: middle;\n",
       "    }\n",
       "\n",
       "    .dataframe tbody tr th {\n",
       "        vertical-align: top;\n",
       "    }\n",
       "\n",
       "    .dataframe thead th {\n",
       "        text-align: right;\n",
       "    }\n",
       "</style>\n",
       "<table border=\"1\" class=\"dataframe\">\n",
       "  <thead>\n",
       "    <tr style=\"text-align: right;\">\n",
       "      <th></th>\n",
       "      <th>Customer</th>\n",
       "      <th>State</th>\n",
       "      <th>Customer Lifetime Value</th>\n",
       "      <th>Response</th>\n",
       "      <th>Coverage</th>\n",
       "      <th>Education</th>\n",
       "      <th>Effective To Date</th>\n",
       "      <th>EmploymentStatus</th>\n",
       "      <th>Gender</th>\n",
       "      <th>Income</th>\n",
       "      <th>...</th>\n",
       "      <th>Months Since Policy Inception</th>\n",
       "      <th>Number of Open Complaints</th>\n",
       "      <th>Number of Policies</th>\n",
       "      <th>Policy Type</th>\n",
       "      <th>Policy</th>\n",
       "      <th>Renew Offer Type</th>\n",
       "      <th>Sales Channel</th>\n",
       "      <th>Total Claim Amount</th>\n",
       "      <th>Vehicle Class</th>\n",
       "      <th>Vehicle Size</th>\n",
       "    </tr>\n",
       "  </thead>\n",
       "  <tbody>\n",
       "    <tr>\n",
       "      <th>0</th>\n",
       "      <td>BU79786</td>\n",
       "      <td>Washington</td>\n",
       "      <td>2763.519279</td>\n",
       "      <td>No</td>\n",
       "      <td>Basic</td>\n",
       "      <td>Bachelor</td>\n",
       "      <td>2/24/11</td>\n",
       "      <td>Employed</td>\n",
       "      <td>F</td>\n",
       "      <td>56274</td>\n",
       "      <td>...</td>\n",
       "      <td>5</td>\n",
       "      <td>0</td>\n",
       "      <td>1</td>\n",
       "      <td>Corporate Auto</td>\n",
       "      <td>Corporate L3</td>\n",
       "      <td>Offer1</td>\n",
       "      <td>Agent</td>\n",
       "      <td>384.811147</td>\n",
       "      <td>Two-Door Car</td>\n",
       "      <td>Medsize</td>\n",
       "    </tr>\n",
       "    <tr>\n",
       "      <th>1</th>\n",
       "      <td>QZ44356</td>\n",
       "      <td>Arizona</td>\n",
       "      <td>6979.535903</td>\n",
       "      <td>No</td>\n",
       "      <td>Extended</td>\n",
       "      <td>Bachelor</td>\n",
       "      <td>1/31/11</td>\n",
       "      <td>Unemployed</td>\n",
       "      <td>F</td>\n",
       "      <td>0</td>\n",
       "      <td>...</td>\n",
       "      <td>42</td>\n",
       "      <td>0</td>\n",
       "      <td>8</td>\n",
       "      <td>Personal Auto</td>\n",
       "      <td>Personal L3</td>\n",
       "      <td>Offer3</td>\n",
       "      <td>Agent</td>\n",
       "      <td>1131.464935</td>\n",
       "      <td>Four-Door Car</td>\n",
       "      <td>Medsize</td>\n",
       "    </tr>\n",
       "    <tr>\n",
       "      <th>2</th>\n",
       "      <td>AI49188</td>\n",
       "      <td>Nevada</td>\n",
       "      <td>12887.431650</td>\n",
       "      <td>No</td>\n",
       "      <td>Premium</td>\n",
       "      <td>Bachelor</td>\n",
       "      <td>2/19/11</td>\n",
       "      <td>Employed</td>\n",
       "      <td>F</td>\n",
       "      <td>48767</td>\n",
       "      <td>...</td>\n",
       "      <td>38</td>\n",
       "      <td>0</td>\n",
       "      <td>2</td>\n",
       "      <td>Personal Auto</td>\n",
       "      <td>Personal L3</td>\n",
       "      <td>Offer1</td>\n",
       "      <td>Agent</td>\n",
       "      <td>566.472247</td>\n",
       "      <td>Two-Door Car</td>\n",
       "      <td>Medsize</td>\n",
       "    </tr>\n",
       "    <tr>\n",
       "      <th>3</th>\n",
       "      <td>WW63253</td>\n",
       "      <td>California</td>\n",
       "      <td>7645.861827</td>\n",
       "      <td>No</td>\n",
       "      <td>Basic</td>\n",
       "      <td>Bachelor</td>\n",
       "      <td>1/20/11</td>\n",
       "      <td>Unemployed</td>\n",
       "      <td>M</td>\n",
       "      <td>0</td>\n",
       "      <td>...</td>\n",
       "      <td>65</td>\n",
       "      <td>0</td>\n",
       "      <td>7</td>\n",
       "      <td>Corporate Auto</td>\n",
       "      <td>Corporate L2</td>\n",
       "      <td>Offer1</td>\n",
       "      <td>Call Center</td>\n",
       "      <td>529.881344</td>\n",
       "      <td>SUV</td>\n",
       "      <td>Medsize</td>\n",
       "    </tr>\n",
       "    <tr>\n",
       "      <th>4</th>\n",
       "      <td>HB64268</td>\n",
       "      <td>Washington</td>\n",
       "      <td>2813.692575</td>\n",
       "      <td>No</td>\n",
       "      <td>Basic</td>\n",
       "      <td>Bachelor</td>\n",
       "      <td>2/3/11</td>\n",
       "      <td>Employed</td>\n",
       "      <td>M</td>\n",
       "      <td>43836</td>\n",
       "      <td>...</td>\n",
       "      <td>44</td>\n",
       "      <td>0</td>\n",
       "      <td>1</td>\n",
       "      <td>Personal Auto</td>\n",
       "      <td>Personal L1</td>\n",
       "      <td>Offer1</td>\n",
       "      <td>Agent</td>\n",
       "      <td>138.130879</td>\n",
       "      <td>Four-Door Car</td>\n",
       "      <td>Medsize</td>\n",
       "    </tr>\n",
       "  </tbody>\n",
       "</table>\n",
       "<p>5 rows × 24 columns</p>\n",
       "</div>"
      ],
      "text/plain": [
       "  Customer       State  Customer Lifetime Value Response  Coverage Education  \\\n",
       "0  BU79786  Washington              2763.519279       No     Basic  Bachelor   \n",
       "1  QZ44356     Arizona              6979.535903       No  Extended  Bachelor   \n",
       "2  AI49188      Nevada             12887.431650       No   Premium  Bachelor   \n",
       "3  WW63253  California              7645.861827       No     Basic  Bachelor   \n",
       "4  HB64268  Washington              2813.692575       No     Basic  Bachelor   \n",
       "\n",
       "  Effective To Date EmploymentStatus Gender  Income  ...  \\\n",
       "0           2/24/11         Employed      F   56274  ...   \n",
       "1           1/31/11       Unemployed      F       0  ...   \n",
       "2           2/19/11         Employed      F   48767  ...   \n",
       "3           1/20/11       Unemployed      M       0  ...   \n",
       "4            2/3/11         Employed      M   43836  ...   \n",
       "\n",
       "  Months Since Policy Inception Number of Open Complaints  Number of Policies  \\\n",
       "0                             5                         0                   1   \n",
       "1                            42                         0                   8   \n",
       "2                            38                         0                   2   \n",
       "3                            65                         0                   7   \n",
       "4                            44                         0                   1   \n",
       "\n",
       "      Policy Type        Policy  Renew Offer Type  Sales Channel  \\\n",
       "0  Corporate Auto  Corporate L3            Offer1          Agent   \n",
       "1   Personal Auto   Personal L3            Offer3          Agent   \n",
       "2   Personal Auto   Personal L3            Offer1          Agent   \n",
       "3  Corporate Auto  Corporate L2            Offer1    Call Center   \n",
       "4   Personal Auto   Personal L1            Offer1          Agent   \n",
       "\n",
       "  Total Claim Amount  Vehicle Class Vehicle Size  \n",
       "0         384.811147   Two-Door Car      Medsize  \n",
       "1        1131.464935  Four-Door Car      Medsize  \n",
       "2         566.472247   Two-Door Car      Medsize  \n",
       "3         529.881344            SUV      Medsize  \n",
       "4         138.130879  Four-Door Car      Medsize  \n",
       "\n",
       "[5 rows x 24 columns]"
      ]
     },
     "execution_count": 230,
     "metadata": {},
     "output_type": "execute_result"
    }
   ],
   "source": [
    "data = pd.read_csv('files_for_lab/csv_files/marketing_customer_analysis.csv')\n",
    "data.head()"
   ]
  },
  {
   "cell_type": "markdown",
   "id": "b3ea143d",
   "metadata": {},
   "source": [
    "\n",
    "### 2. Dealing with the data\n",
    "\n",
    "Already done in the round 2.\n",
    "\n"
   ]
  },
  {
   "cell_type": "code",
   "execution_count": 231,
   "id": "39af521d",
   "metadata": {},
   "outputs": [
    {
     "data": {
      "text/plain": [
       "(9134, 24)"
      ]
     },
     "execution_count": 231,
     "metadata": {},
     "output_type": "execute_result"
    }
   ],
   "source": [
    "data.columns = data.columns.str.lower()\n",
    "data.columns = data.columns.str.replace(' ', '_')\n",
    "\n",
    "data.shape"
   ]
  },
  {
   "cell_type": "code",
   "execution_count": 232,
   "id": "5ad97d8a",
   "metadata": {},
   "outputs": [
    {
     "name": "stdout",
     "output_type": "stream",
     "text": [
      "<class 'pandas.core.frame.DataFrame'>\n",
      "RangeIndex: 9134 entries, 0 to 9133\n",
      "Data columns (total 24 columns):\n",
      " #   Column                         Non-Null Count  Dtype  \n",
      "---  ------                         --------------  -----  \n",
      " 0   customer                       9134 non-null   object \n",
      " 1   state                          9134 non-null   object \n",
      " 2   customer_lifetime_value        9134 non-null   float64\n",
      " 3   response                       9134 non-null   object \n",
      " 4   coverage                       9134 non-null   object \n",
      " 5   education                      9134 non-null   object \n",
      " 6   effective_to_date              9134 non-null   object \n",
      " 7   employmentstatus               9134 non-null   object \n",
      " 8   gender                         9134 non-null   object \n",
      " 9   income                         9134 non-null   int64  \n",
      " 10  location_code                  9134 non-null   object \n",
      " 11  marital_status                 9134 non-null   object \n",
      " 12  monthly_premium_auto           9134 non-null   int64  \n",
      " 13  months_since_last_claim        9134 non-null   int64  \n",
      " 14  months_since_policy_inception  9134 non-null   int64  \n",
      " 15  number_of_open_complaints      9134 non-null   int64  \n",
      " 16  number_of_policies             9134 non-null   int64  \n",
      " 17  policy_type                    9134 non-null   object \n",
      " 18  policy                         9134 non-null   object \n",
      " 19  renew_offer_type               9134 non-null   object \n",
      " 20  sales_channel                  9134 non-null   object \n",
      " 21  total_claim_amount             9134 non-null   float64\n",
      " 22  vehicle_class                  9134 non-null   object \n",
      " 23  vehicle_size                   9134 non-null   object \n",
      "dtypes: float64(2), int64(6), object(16)\n",
      "memory usage: 1.7+ MB\n"
     ]
    }
   ],
   "source": [
    "data.info()"
   ]
  },
  {
   "cell_type": "code",
   "execution_count": 233,
   "id": "bc00c935",
   "metadata": {},
   "outputs": [
    {
     "data": {
      "text/plain": [
       "customer                         0\n",
       "state                            0\n",
       "customer_lifetime_value          0\n",
       "response                         0\n",
       "coverage                         0\n",
       "education                        0\n",
       "effective_to_date                0\n",
       "employmentstatus                 0\n",
       "gender                           0\n",
       "income                           0\n",
       "location_code                    0\n",
       "marital_status                   0\n",
       "monthly_premium_auto             0\n",
       "months_since_last_claim          0\n",
       "months_since_policy_inception    0\n",
       "number_of_open_complaints        0\n",
       "number_of_policies               0\n",
       "policy_type                      0\n",
       "policy                           0\n",
       "renew_offer_type                 0\n",
       "sales_channel                    0\n",
       "total_claim_amount               0\n",
       "vehicle_class                    0\n",
       "vehicle_size                     0\n",
       "dtype: int64"
      ]
     },
     "execution_count": 233,
     "metadata": {},
     "output_type": "execute_result"
    }
   ],
   "source": [
    "data.isna().sum()"
   ]
  },
  {
   "cell_type": "markdown",
   "id": "e60b5d0e",
   "metadata": {},
   "source": [
    "### 3. Explore the data\n",
    "\n",
    "Some datasets have values that are missing, invalid, or otherwise difficult for an algorithm to process. If data is missing, the algorithm can’t use it. If data is invalid, the algorithm produces less accurate or even misleading outcomes. Some datasets are relatively clean but need to be shaped (e.g., aggregated or pivoted) and many datasets are just lacking useful business context (e.g., poorly defined ID values), hence the need for feature enrichment. Good data preparation produces clean and well-curated data which leads to more practical, accurate model outcomes.\n"
   ]
  },
  {
   "cell_type": "markdown",
   "id": "b70f1842",
   "metadata": {},
   "source": [
    "   **3.1.- Determine the problems**\n"
   ]
  },
  {
   "cell_type": "markdown",
   "id": "834c8984",
   "metadata": {},
   "source": [
    "   **3.2.- Data cleaning** Cleaning the data is very important as the model learning from that data only, so if we feed inconsistent, appropriate data to model it will return garbage only, so it is required to make sure that the data does not contains any unseen problem.\n",
    "\n",
    "       - Feature and Target Variables\n",
    "       - Data Types\n",
    "       - Missing data, check null values\n",
    "       - Outliers\n",
    "       - Duplicate data"
   ]
  },
  {
   "cell_type": "markdown",
   "id": "e6fd287d",
   "metadata": {},
   "source": [
    "   **3.3.- Feature selection** (Which variables are important to answer our questions?)\n"
   ]
  },
  {
   "cell_type": "markdown",
   "id": "066d715c",
   "metadata": {},
   "source": [
    "   **3.4.- Data transformation**"
   ]
  },
  {
   "cell_type": "markdown",
   "id": "24ee7d2f",
   "metadata": {},
   "source": [
    "# Checking the categorical values."
   ]
  },
  {
   "cell_type": "code",
   "execution_count": 234,
   "id": "5d97c378",
   "metadata": {},
   "outputs": [
    {
     "data": {
      "text/plain": [
       "Index(['customer', 'state', 'response', 'coverage', 'education',\n",
       "       'effective_to_date', 'employmentstatus', 'gender', 'location_code',\n",
       "       'marital_status', 'policy_type', 'policy', 'renew_offer_type',\n",
       "       'sales_channel', 'vehicle_class', 'vehicle_size'],\n",
       "      dtype='object')"
      ]
     },
     "execution_count": 234,
     "metadata": {},
     "output_type": "execute_result"
    }
   ],
   "source": [
    "categoricals = data.select_dtypes(object)\n",
    "categoricals.columns"
   ]
  },
  {
   "cell_type": "code",
   "execution_count": 235,
   "id": "f0b993be",
   "metadata": {},
   "outputs": [
    {
     "data": {
      "text/plain": [
       "True"
      ]
     },
     "execution_count": 235,
     "metadata": {},
     "output_type": "execute_result"
    }
   ],
   "source": [
    "# Check 'Customer'. all ID consist with alphabet and number?\n",
    "\n",
    "all(categoricals['customer'].str.isalnum())"
   ]
  },
  {
   "cell_type": "code",
   "execution_count": 236,
   "id": "44c792b1",
   "metadata": {},
   "outputs": [
    {
     "data": {
      "text/plain": [
       "California    3150\n",
       "Oregon        2601\n",
       "Arizona       1703\n",
       "Nevada         882\n",
       "Washington     798\n",
       "Name: state, dtype: int64"
      ]
     },
     "execution_count": 236,
     "metadata": {},
     "output_type": "execute_result"
    }
   ],
   "source": [
    "# Check 'State'. \n",
    "data['state'].value_counts(dropna=False)"
   ]
  },
  {
   "cell_type": "code",
   "execution_count": 237,
   "id": "c921bc23",
   "metadata": {},
   "outputs": [
    {
     "data": {
      "text/plain": [
       "No     7826\n",
       "Yes    1308\n",
       "Name: response, dtype: int64"
      ]
     },
     "execution_count": 237,
     "metadata": {},
     "output_type": "execute_result"
    }
   ],
   "source": [
    "data['response'].value_counts(dropna=False)"
   ]
  },
  {
   "cell_type": "code",
   "execution_count": 238,
   "id": "1b3a2c42",
   "metadata": {},
   "outputs": [
    {
     "data": {
      "text/plain": [
       "Basic       5568\n",
       "Extended    2742\n",
       "Premium      824\n",
       "Name: coverage, dtype: int64"
      ]
     },
     "execution_count": 238,
     "metadata": {},
     "output_type": "execute_result"
    }
   ],
   "source": [
    "data['coverage'].value_counts(dropna=False)"
   ]
  },
  {
   "cell_type": "code",
   "execution_count": 239,
   "id": "07b6aa40",
   "metadata": {},
   "outputs": [
    {
     "data": {
      "text/plain": [
       "Bachelor                2748\n",
       "College                 2681\n",
       "High School or Below    2622\n",
       "Master                   741\n",
       "Doctor                   342\n",
       "Name: education, dtype: int64"
      ]
     },
     "execution_count": 239,
     "metadata": {},
     "output_type": "execute_result"
    }
   ],
   "source": [
    "data['education'].value_counts(dropna=False)"
   ]
  },
  {
   "cell_type": "code",
   "execution_count": 240,
   "id": "ee692df8",
   "metadata": {},
   "outputs": [
    {
     "data": {
      "text/plain": [
       "0      2011-02-24\n",
       "1      2011-01-31\n",
       "2      2011-02-19\n",
       "3      2011-01-20\n",
       "4      2011-02-03\n",
       "          ...    \n",
       "9129   2011-02-10\n",
       "9130   2011-02-12\n",
       "9131   2011-02-06\n",
       "9132   2011-02-03\n",
       "9133   2011-02-14\n",
       "Name: effective_to_date, Length: 9134, dtype: datetime64[ns]"
      ]
     },
     "execution_count": 240,
     "metadata": {},
     "output_type": "execute_result"
    }
   ],
   "source": [
    "# Convert 'effective_to_date' datatype from float to datetime\n",
    "\n",
    "data['effective_to_date'] = pd.to_datetime(data['effective_to_date'])\n",
    "data['effective_to_date']"
   ]
  },
  {
   "cell_type": "code",
   "execution_count": 241,
   "id": "de6aaece",
   "metadata": {},
   "outputs": [
    {
     "data": {
      "text/plain": [
       "Employed         5698\n",
       "Unemployed       2317\n",
       "Medical Leave     432\n",
       "Disabled          405\n",
       "Retired           282\n",
       "Name: employmentstatus, dtype: int64"
      ]
     },
     "execution_count": 241,
     "metadata": {},
     "output_type": "execute_result"
    }
   ],
   "source": [
    "data['employmentstatus'].value_counts(dropna=False)"
   ]
  },
  {
   "cell_type": "code",
   "execution_count": 242,
   "id": "e84d1708",
   "metadata": {},
   "outputs": [
    {
     "data": {
      "text/plain": [
       "F    4658\n",
       "M    4476\n",
       "Name: gender, dtype: int64"
      ]
     },
     "execution_count": 242,
     "metadata": {},
     "output_type": "execute_result"
    }
   ],
   "source": [
    "data['gender'].value_counts(dropna=False)"
   ]
  },
  {
   "cell_type": "code",
   "execution_count": 243,
   "id": "4fb4e03e",
   "metadata": {},
   "outputs": [
    {
     "data": {
      "text/plain": [
       "Suburban    5779\n",
       "Rural       1773\n",
       "Urban       1582\n",
       "Name: location_code, dtype: int64"
      ]
     },
     "execution_count": 243,
     "metadata": {},
     "output_type": "execute_result"
    }
   ],
   "source": [
    "data['location_code'].value_counts(dropna=False)"
   ]
  },
  {
   "cell_type": "code",
   "execution_count": 244,
   "id": "fe26e877",
   "metadata": {},
   "outputs": [
    {
     "data": {
      "text/plain": [
       "Married     5298\n",
       "Single      2467\n",
       "Divorced    1369\n",
       "Name: marital_status, dtype: int64"
      ]
     },
     "execution_count": 244,
     "metadata": {},
     "output_type": "execute_result"
    }
   ],
   "source": [
    "data['marital_status'].value_counts(dropna=False)"
   ]
  },
  {
   "cell_type": "code",
   "execution_count": 245,
   "id": "9a2c5ff9",
   "metadata": {},
   "outputs": [
    {
     "data": {
      "text/plain": [
       "Personal Auto     6788\n",
       "Corporate Auto    1968\n",
       "Special Auto       378\n",
       "Name: policy_type, dtype: int64"
      ]
     },
     "execution_count": 245,
     "metadata": {},
     "output_type": "execute_result"
    }
   ],
   "source": [
    "data['policy_type'].value_counts(dropna=False)"
   ]
  },
  {
   "cell_type": "code",
   "execution_count": 246,
   "id": "2f7d9a1c",
   "metadata": {},
   "outputs": [
    {
     "data": {
      "text/plain": [
       "Personal L3     3426\n",
       "Personal L2     2122\n",
       "Personal L1     1240\n",
       "Corporate L3    1014\n",
       "Corporate L2     595\n",
       "Corporate L1     359\n",
       "Special L2       164\n",
       "Special L3       148\n",
       "Special L1        66\n",
       "Name: policy, dtype: int64"
      ]
     },
     "execution_count": 246,
     "metadata": {},
     "output_type": "execute_result"
    }
   ],
   "source": [
    "data['policy'].value_counts(dropna=False)"
   ]
  },
  {
   "cell_type": "code",
   "execution_count": 247,
   "id": "0944fbe7",
   "metadata": {},
   "outputs": [
    {
     "data": {
      "text/plain": [
       "Offer1    3752\n",
       "Offer2    2926\n",
       "Offer3    1432\n",
       "Offer4    1024\n",
       "Name: renew_offer_type, dtype: int64"
      ]
     },
     "execution_count": 247,
     "metadata": {},
     "output_type": "execute_result"
    }
   ],
   "source": [
    "data['renew_offer_type'].value_counts(dropna=False)"
   ]
  },
  {
   "cell_type": "code",
   "execution_count": 248,
   "id": "f79c7e1f",
   "metadata": {},
   "outputs": [
    {
     "data": {
      "text/plain": [
       "Agent          3477\n",
       "Branch         2567\n",
       "Call Center    1765\n",
       "Web            1325\n",
       "Name: sales_channel, dtype: int64"
      ]
     },
     "execution_count": 248,
     "metadata": {},
     "output_type": "execute_result"
    }
   ],
   "source": [
    "data['sales_channel'].value_counts(dropna=False)"
   ]
  },
  {
   "cell_type": "code",
   "execution_count": 249,
   "id": "b0ef2bde",
   "metadata": {},
   "outputs": [
    {
     "data": {
      "text/plain": [
       "Four-Door Car    4621\n",
       "Two-Door Car     1886\n",
       "SUV              1796\n",
       "Sports Car        484\n",
       "Luxury SUV        184\n",
       "Luxury Car        163\n",
       "Name: vehicle_class, dtype: int64"
      ]
     },
     "execution_count": 249,
     "metadata": {},
     "output_type": "execute_result"
    }
   ],
   "source": [
    "data['vehicle_class'].value_counts(dropna=False)"
   ]
  },
  {
   "cell_type": "code",
   "execution_count": 250,
   "id": "80e801af",
   "metadata": {},
   "outputs": [
    {
     "data": {
      "text/plain": [
       "Medsize    6424\n",
       "Small      1764\n",
       "Large       946\n",
       "Name: vehicle_size, dtype: int64"
      ]
     },
     "execution_count": 250,
     "metadata": {},
     "output_type": "execute_result"
    }
   ],
   "source": [
    "data['vehicle_size'].value_counts(dropna=False)"
   ]
  },
  {
   "cell_type": "markdown",
   "id": "5f91aee1",
   "metadata": {},
   "source": [
    "# Checking the numerical values"
   ]
  },
  {
   "cell_type": "code",
   "execution_count": 251,
   "id": "f3d5d62a",
   "metadata": {},
   "outputs": [
    {
     "data": {
      "text/plain": [
       "Index(['customer_lifetime_value', 'income', 'monthly_premium_auto',\n",
       "       'months_since_last_claim', 'months_since_policy_inception',\n",
       "       'number_of_open_complaints', 'number_of_policies',\n",
       "       'total_claim_amount'],\n",
       "      dtype='object')"
      ]
     },
     "execution_count": 251,
     "metadata": {},
     "output_type": "execute_result"
    }
   ],
   "source": [
    "numerical = data.select_dtypes(np.number)\n",
    "numerical.columns"
   ]
  },
  {
   "cell_type": "code",
   "execution_count": 252,
   "id": "100703c1",
   "metadata": {},
   "outputs": [
    {
     "data": {
      "image/png": "[encoded data removed]",
      "text/plain": [
       "<Figure size 432x288 with 1 Axes>"
      ]
     },
     "metadata": {
      "needs_background": "light"
     },
     "output_type": "display_data"
    },
    {
     "data": {
      "image/png": "[encoded data removed]",
      "text/plain": [
       "<Figure size 432x288 with 1 Axes>"
      ]
     },
     "metadata": {
      "needs_background": "light"
     },
     "output_type": "display_data"
    },
    {
     "data": {
      "image/png": "[encoded data removed]",
      "text/plain": [
       "<Figure size 432x288 with 1 Axes>"
      ]
     },
     "metadata": {
      "needs_background": "light"
     },
     "output_type": "display_data"
    },
    {
     "data": {
      "image/png": "[encoded data removed]",
      "text/plain": [
       "<Figure size 432x288 with 1 Axes>"
      ]
     },
     "metadata": {
      "needs_background": "light"
     },
     "output_type": "display_data"
    },
    {
     "data": {
      "image/png": "[encoded data removed]",
      "text/plain": [
       "<Figure size 432x288 with 1 Axes>"
      ]
     },
     "metadata": {
      "needs_background": "light"
     },
     "output_type": "display_data"
    },
    {
     "data": {
      "image/png": "[encoded data removed]",
      "text/plain": [
       "<Figure size 432x288 with 1 Axes>"
      ]
     },
     "metadata": {
      "needs_background": "light"
     },
     "output_type": "display_data"
    },
    {
     "data": {
      "image/png": "[encoded data removed]",
      "text/plain": [
       "<Figure size 432x288 with 1 Axes>"
      ]
     },
     "metadata": {
      "needs_background": "light"
     },
     "output_type": "display_data"
    },
    {
     "data": {
      "image/png": "[encoded data removed]",
      "text/plain": [
       "<Figure size 432x288 with 1 Axes>"
      ]
     },
     "metadata": {
      "needs_background": "light"
     },
     "output_type": "display_data"
    }
   ],
   "source": [
    "for column in numerical.columns:\n",
    "    sns.distplot(numerical[column])\n",
    "    plt.show()"
   ]
  },
  {
   "cell_type": "code",
   "execution_count": 253,
   "id": "0484ed5f",
   "metadata": {
    "scrolled": false
   },
   "outputs": [
    {
     "data": {
      "image/png": "[encoded data removed]",
      "text/plain": [
       "<Figure size 432x288 with 1 Axes>"
      ]
     },
     "metadata": {
      "needs_background": "light"
     },
     "output_type": "display_data"
    },
    {
     "data": {
      "image/png": "[encoded data removed]",
      "text/plain": [
       "<Figure size 432x288 with 1 Axes>"
      ]
     },
     "metadata": {
      "needs_background": "light"
     },
     "output_type": "display_data"
    },
    {
     "data": {
      "image/png": "[encoded data removed]",
      "text/plain": [
       "<Figure size 432x288 with 1 Axes>"
      ]
     },
     "metadata": {
      "needs_background": "light"
     },
     "output_type": "display_data"
    },
    {
     "data": {
      "image/png": "[encoded data removed]",
      "text/plain": [
       "<Figure size 432x288 with 1 Axes>"
      ]
     },
     "metadata": {
      "needs_background": "light"
     },
     "output_type": "display_data"
    },
    {
     "data": {
      "image/png": "[encoded data removed]",
      "text/plain": [
       "<Figure size 432x288 with 1 Axes>"
      ]
     },
     "metadata": {
      "needs_background": "light"
     },
     "output_type": "display_data"
    },
    {
     "data": {
      "image/png": "[encoded data removed]",
      "text/plain": [
       "<Figure size 432x288 with 1 Axes>"
      ]
     },
     "metadata": {
      "needs_background": "light"
     },
     "output_type": "display_data"
    },
    {
     "data": {
      "image/png": "[encoded data removed]",
      "text/plain": [
       "<Figure size 432x288 with 1 Axes>"
      ]
     },
     "metadata": {
      "needs_background": "light"
     },
     "output_type": "display_data"
    },
    {
     "data": {
      "image/png": "[encoded data removed]",
      "text/plain": [
       "<Figure size 432x288 with 1 Axes>"
      ]
     },
     "metadata": {
      "needs_background": "light"
     },
     "output_type": "display_data"
    }
   ],
   "source": [
    "for column in numerical.columns:\n",
    "    sns.boxplot(numerical[column])\n",
    "    plt.show()"
   ]
  },
  {
   "cell_type": "code",
   "execution_count": 266,
   "id": "8c2adb29",
   "metadata": {},
   "outputs": [],
   "source": [
    "data1 = data.copy()"
   ]
  },
  {
   "cell_type": "code",
   "execution_count": 267,
   "id": "35922eef",
   "metadata": {},
   "outputs": [
    {
     "data": {
      "text/html": [
       "<div>\n",
       "<style scoped>\n",
       "    .dataframe tbody tr th:only-of-type {\n",
       "        vertical-align: middle;\n",
       "    }\n",
       "\n",
       "    .dataframe tbody tr th {\n",
       "        vertical-align: top;\n",
       "    }\n",
       "\n",
       "    .dataframe thead th {\n",
       "        text-align: right;\n",
       "    }\n",
       "</style>\n",
       "<table border=\"1\" class=\"dataframe\">\n",
       "  <thead>\n",
       "    <tr style=\"text-align: right;\">\n",
       "      <th></th>\n",
       "      <th>customer_lifetime_value</th>\n",
       "      <th>income</th>\n",
       "      <th>monthly_premium_auto</th>\n",
       "      <th>months_since_last_claim</th>\n",
       "      <th>months_since_policy_inception</th>\n",
       "      <th>number_of_open_complaints</th>\n",
       "      <th>number_of_policies</th>\n",
       "      <th>total_claim_amount</th>\n",
       "    </tr>\n",
       "  </thead>\n",
       "  <tbody>\n",
       "    <tr>\n",
       "      <th>customer_lifetime_value</th>\n",
       "      <td>1.000000</td>\n",
       "      <td>0.024366</td>\n",
       "      <td>0.396262</td>\n",
       "      <td>0.011517</td>\n",
       "      <td>0.009418</td>\n",
       "      <td>-0.036343</td>\n",
       "      <td>0.021955</td>\n",
       "      <td>0.226451</td>\n",
       "    </tr>\n",
       "    <tr>\n",
       "      <th>income</th>\n",
       "      <td>0.024366</td>\n",
       "      <td>1.000000</td>\n",
       "      <td>-0.016665</td>\n",
       "      <td>-0.026715</td>\n",
       "      <td>-0.000875</td>\n",
       "      <td>0.006408</td>\n",
       "      <td>-0.008656</td>\n",
       "      <td>-0.355254</td>\n",
       "    </tr>\n",
       "    <tr>\n",
       "      <th>monthly_premium_auto</th>\n",
       "      <td>0.396262</td>\n",
       "      <td>-0.016665</td>\n",
       "      <td>1.000000</td>\n",
       "      <td>0.005026</td>\n",
       "      <td>0.020257</td>\n",
       "      <td>-0.013122</td>\n",
       "      <td>-0.011233</td>\n",
       "      <td>0.632017</td>\n",
       "    </tr>\n",
       "    <tr>\n",
       "      <th>months_since_last_claim</th>\n",
       "      <td>0.011517</td>\n",
       "      <td>-0.026715</td>\n",
       "      <td>0.005026</td>\n",
       "      <td>1.000000</td>\n",
       "      <td>-0.042959</td>\n",
       "      <td>0.005354</td>\n",
       "      <td>0.009136</td>\n",
       "      <td>0.007563</td>\n",
       "    </tr>\n",
       "    <tr>\n",
       "      <th>months_since_policy_inception</th>\n",
       "      <td>0.009418</td>\n",
       "      <td>-0.000875</td>\n",
       "      <td>0.020257</td>\n",
       "      <td>-0.042959</td>\n",
       "      <td>1.000000</td>\n",
       "      <td>-0.001158</td>\n",
       "      <td>-0.013333</td>\n",
       "      <td>0.003335</td>\n",
       "    </tr>\n",
       "    <tr>\n",
       "      <th>number_of_open_complaints</th>\n",
       "      <td>-0.036343</td>\n",
       "      <td>0.006408</td>\n",
       "      <td>-0.013122</td>\n",
       "      <td>0.005354</td>\n",
       "      <td>-0.001158</td>\n",
       "      <td>1.000000</td>\n",
       "      <td>0.001498</td>\n",
       "      <td>-0.014241</td>\n",
       "    </tr>\n",
       "    <tr>\n",
       "      <th>number_of_policies</th>\n",
       "      <td>0.021955</td>\n",
       "      <td>-0.008656</td>\n",
       "      <td>-0.011233</td>\n",
       "      <td>0.009136</td>\n",
       "      <td>-0.013333</td>\n",
       "      <td>0.001498</td>\n",
       "      <td>1.000000</td>\n",
       "      <td>-0.002354</td>\n",
       "    </tr>\n",
       "    <tr>\n",
       "      <th>total_claim_amount</th>\n",
       "      <td>0.226451</td>\n",
       "      <td>-0.355254</td>\n",
       "      <td>0.632017</td>\n",
       "      <td>0.007563</td>\n",
       "      <td>0.003335</td>\n",
       "      <td>-0.014241</td>\n",
       "      <td>-0.002354</td>\n",
       "      <td>1.000000</td>\n",
       "    </tr>\n",
       "  </tbody>\n",
       "</table>\n",
       "</div>"
      ],
      "text/plain": [
       "                               customer_lifetime_value    income  \\\n",
       "customer_lifetime_value                       1.000000  0.024366   \n",
       "income                                        0.024366  1.000000   \n",
       "monthly_premium_auto                          0.396262 -0.016665   \n",
       "months_since_last_claim                       0.011517 -0.026715   \n",
       "months_since_policy_inception                 0.009418 -0.000875   \n",
       "number_of_open_complaints                    -0.036343  0.006408   \n",
       "number_of_policies                            0.021955 -0.008656   \n",
       "total_claim_amount                            0.226451 -0.355254   \n",
       "\n",
       "                               monthly_premium_auto  months_since_last_claim  \\\n",
       "customer_lifetime_value                    0.396262                 0.011517   \n",
       "income                                    -0.016665                -0.026715   \n",
       "monthly_premium_auto                       1.000000                 0.005026   \n",
       "months_since_last_claim                    0.005026                 1.000000   \n",
       "months_since_policy_inception              0.020257                -0.042959   \n",
       "number_of_open_complaints                 -0.013122                 0.005354   \n",
       "number_of_policies                        -0.011233                 0.009136   \n",
       "total_claim_amount                         0.632017                 0.007563   \n",
       "\n",
       "                               months_since_policy_inception  \\\n",
       "customer_lifetime_value                             0.009418   \n",
       "income                                             -0.000875   \n",
       "monthly_premium_auto                                0.020257   \n",
       "months_since_last_claim                            -0.042959   \n",
       "months_since_policy_inception                       1.000000   \n",
       "number_of_open_complaints                          -0.001158   \n",
       "number_of_policies                                 -0.013333   \n",
       "total_claim_amount                                  0.003335   \n",
       "\n",
       "                               number_of_open_complaints  number_of_policies  \\\n",
       "customer_lifetime_value                        -0.036343            0.021955   \n",
       "income                                          0.006408           -0.008656   \n",
       "monthly_premium_auto                           -0.013122           -0.011233   \n",
       "months_since_last_claim                         0.005354            0.009136   \n",
       "months_since_policy_inception                  -0.001158           -0.013333   \n",
       "number_of_open_complaints                       1.000000            0.001498   \n",
       "number_of_policies                              0.001498            1.000000   \n",
       "total_claim_amount                             -0.014241           -0.002354   \n",
       "\n",
       "                               total_claim_amount  \n",
       "customer_lifetime_value                  0.226451  \n",
       "income                                  -0.355254  \n",
       "monthly_premium_auto                     0.632017  \n",
       "months_since_last_claim                  0.007563  \n",
       "months_since_policy_inception            0.003335  \n",
       "number_of_open_complaints               -0.014241  \n",
       "number_of_policies                      -0.002354  \n",
       "total_claim_amount                       1.000000  "
      ]
     },
     "execution_count": 267,
     "metadata": {},
     "output_type": "execute_result"
    }
   ],
   "source": [
    "corr_data = data1.select_dtypes([np.number])\n",
    "correlations_matrix = corr_data.corr() \n",
    "correlations_matrix"
   ]
  },
  {
   "cell_type": "code",
   "execution_count": 268,
   "id": "e3c0076d",
   "metadata": {},
   "outputs": [
    {
     "data": {
      "image/png": "[encoded data removed]",
      "text/plain": [
       "<Figure size 432x288 with 2 Axes>"
      ]
     },
     "metadata": {
      "needs_background": "light"
     },
     "output_type": "display_data"
    }
   ],
   "source": [
    "sns_plot = sns.heatmap(correlations_matrix, annot=True)\n",
    "figure = sns_plot.get_figure()    \n",
    "plt.show()"
   ]
  },
  {
   "cell_type": "code",
   "execution_count": 269,
   "id": "8a56635e",
   "metadata": {},
   "outputs": [
    {
     "data": {
      "text/html": [
       "<div>\n",
       "<style scoped>\n",
       "    .dataframe tbody tr th:only-of-type {\n",
       "        vertical-align: middle;\n",
       "    }\n",
       "\n",
       "    .dataframe tbody tr th {\n",
       "        vertical-align: top;\n",
       "    }\n",
       "\n",
       "    .dataframe thead th {\n",
       "        text-align: right;\n",
       "    }\n",
       "</style>\n",
       "<table border=\"1\" class=\"dataframe\">\n",
       "  <thead>\n",
       "    <tr style=\"text-align: right;\">\n",
       "      <th></th>\n",
       "      <th>customer</th>\n",
       "      <th>state</th>\n",
       "      <th>customer_lifetime_value</th>\n",
       "      <th>response</th>\n",
       "      <th>coverage</th>\n",
       "      <th>education</th>\n",
       "      <th>effective_to_date</th>\n",
       "      <th>employmentstatus</th>\n",
       "      <th>gender</th>\n",
       "      <th>income</th>\n",
       "      <th>...</th>\n",
       "      <th>months_since_policy_inception</th>\n",
       "      <th>number_of_open_complaints</th>\n",
       "      <th>number_of_policies</th>\n",
       "      <th>policy_type</th>\n",
       "      <th>policy</th>\n",
       "      <th>renew_offer_type</th>\n",
       "      <th>sales_channel</th>\n",
       "      <th>total_claim_amount</th>\n",
       "      <th>vehicle_class</th>\n",
       "      <th>vehicle_size</th>\n",
       "    </tr>\n",
       "  </thead>\n",
       "  <tbody>\n",
       "    <tr>\n",
       "      <th>0</th>\n",
       "      <td>BU79786</td>\n",
       "      <td>Washington</td>\n",
       "      <td>2763.519279</td>\n",
       "      <td>No</td>\n",
       "      <td>Basic</td>\n",
       "      <td>Bachelor</td>\n",
       "      <td>2011-02-24</td>\n",
       "      <td>Employed</td>\n",
       "      <td>F</td>\n",
       "      <td>56274</td>\n",
       "      <td>...</td>\n",
       "      <td>5</td>\n",
       "      <td>0</td>\n",
       "      <td>1</td>\n",
       "      <td>Corporate Auto</td>\n",
       "      <td>Corporate L3</td>\n",
       "      <td>Offer1</td>\n",
       "      <td>Agent</td>\n",
       "      <td>384.811147</td>\n",
       "      <td>Two-Door Car</td>\n",
       "      <td>Medsize</td>\n",
       "    </tr>\n",
       "    <tr>\n",
       "      <th>1</th>\n",
       "      <td>QZ44356</td>\n",
       "      <td>Arizona</td>\n",
       "      <td>6979.535903</td>\n",
       "      <td>No</td>\n",
       "      <td>Extended</td>\n",
       "      <td>Bachelor</td>\n",
       "      <td>2011-01-31</td>\n",
       "      <td>Unemployed</td>\n",
       "      <td>F</td>\n",
       "      <td>0</td>\n",
       "      <td>...</td>\n",
       "      <td>42</td>\n",
       "      <td>0</td>\n",
       "      <td>8</td>\n",
       "      <td>Personal Auto</td>\n",
       "      <td>Personal L3</td>\n",
       "      <td>Offer3</td>\n",
       "      <td>Agent</td>\n",
       "      <td>1131.464935</td>\n",
       "      <td>Four-Door Car</td>\n",
       "      <td>Medsize</td>\n",
       "    </tr>\n",
       "    <tr>\n",
       "      <th>2</th>\n",
       "      <td>AI49188</td>\n",
       "      <td>Nevada</td>\n",
       "      <td>12887.431650</td>\n",
       "      <td>No</td>\n",
       "      <td>Premium</td>\n",
       "      <td>Bachelor</td>\n",
       "      <td>2011-02-19</td>\n",
       "      <td>Employed</td>\n",
       "      <td>F</td>\n",
       "      <td>48767</td>\n",
       "      <td>...</td>\n",
       "      <td>38</td>\n",
       "      <td>0</td>\n",
       "      <td>2</td>\n",
       "      <td>Personal Auto</td>\n",
       "      <td>Personal L3</td>\n",
       "      <td>Offer1</td>\n",
       "      <td>Agent</td>\n",
       "      <td>566.472247</td>\n",
       "      <td>Two-Door Car</td>\n",
       "      <td>Medsize</td>\n",
       "    </tr>\n",
       "    <tr>\n",
       "      <th>3</th>\n",
       "      <td>WW63253</td>\n",
       "      <td>California</td>\n",
       "      <td>7645.861827</td>\n",
       "      <td>No</td>\n",
       "      <td>Basic</td>\n",
       "      <td>Bachelor</td>\n",
       "      <td>2011-01-20</td>\n",
       "      <td>Unemployed</td>\n",
       "      <td>M</td>\n",
       "      <td>0</td>\n",
       "      <td>...</td>\n",
       "      <td>65</td>\n",
       "      <td>0</td>\n",
       "      <td>7</td>\n",
       "      <td>Corporate Auto</td>\n",
       "      <td>Corporate L2</td>\n",
       "      <td>Offer1</td>\n",
       "      <td>Call Center</td>\n",
       "      <td>529.881344</td>\n",
       "      <td>SUV</td>\n",
       "      <td>Medsize</td>\n",
       "    </tr>\n",
       "    <tr>\n",
       "      <th>4</th>\n",
       "      <td>HB64268</td>\n",
       "      <td>Washington</td>\n",
       "      <td>2813.692575</td>\n",
       "      <td>No</td>\n",
       "      <td>Basic</td>\n",
       "      <td>Bachelor</td>\n",
       "      <td>2011-02-03</td>\n",
       "      <td>Employed</td>\n",
       "      <td>M</td>\n",
       "      <td>43836</td>\n",
       "      <td>...</td>\n",
       "      <td>44</td>\n",
       "      <td>0</td>\n",
       "      <td>1</td>\n",
       "      <td>Personal Auto</td>\n",
       "      <td>Personal L1</td>\n",
       "      <td>Offer1</td>\n",
       "      <td>Agent</td>\n",
       "      <td>138.130879</td>\n",
       "      <td>Four-Door Car</td>\n",
       "      <td>Medsize</td>\n",
       "    </tr>\n",
       "    <tr>\n",
       "      <th>...</th>\n",
       "      <td>...</td>\n",
       "      <td>...</td>\n",
       "      <td>...</td>\n",
       "      <td>...</td>\n",
       "      <td>...</td>\n",
       "      <td>...</td>\n",
       "      <td>...</td>\n",
       "      <td>...</td>\n",
       "      <td>...</td>\n",
       "      <td>...</td>\n",
       "      <td>...</td>\n",
       "      <td>...</td>\n",
       "      <td>...</td>\n",
       "      <td>...</td>\n",
       "      <td>...</td>\n",
       "      <td>...</td>\n",
       "      <td>...</td>\n",
       "      <td>...</td>\n",
       "      <td>...</td>\n",
       "      <td>...</td>\n",
       "      <td>...</td>\n",
       "    </tr>\n",
       "    <tr>\n",
       "      <th>9128</th>\n",
       "      <td>YM19146</td>\n",
       "      <td>California</td>\n",
       "      <td>4100.398533</td>\n",
       "      <td>No</td>\n",
       "      <td>Premium</td>\n",
       "      <td>College</td>\n",
       "      <td>2011-01-06</td>\n",
       "      <td>Employed</td>\n",
       "      <td>F</td>\n",
       "      <td>47761</td>\n",
       "      <td>...</td>\n",
       "      <td>58</td>\n",
       "      <td>0</td>\n",
       "      <td>1</td>\n",
       "      <td>Personal Auto</td>\n",
       "      <td>Personal L2</td>\n",
       "      <td>Offer1</td>\n",
       "      <td>Branch</td>\n",
       "      <td>541.282007</td>\n",
       "      <td>Four-Door Car</td>\n",
       "      <td>Large</td>\n",
       "    </tr>\n",
       "    <tr>\n",
       "      <th>9130</th>\n",
       "      <td>PK87824</td>\n",
       "      <td>California</td>\n",
       "      <td>3096.511217</td>\n",
       "      <td>Yes</td>\n",
       "      <td>Extended</td>\n",
       "      <td>College</td>\n",
       "      <td>2011-02-12</td>\n",
       "      <td>Employed</td>\n",
       "      <td>F</td>\n",
       "      <td>21604</td>\n",
       "      <td>...</td>\n",
       "      <td>28</td>\n",
       "      <td>0</td>\n",
       "      <td>1</td>\n",
       "      <td>Corporate Auto</td>\n",
       "      <td>Corporate L3</td>\n",
       "      <td>Offer1</td>\n",
       "      <td>Branch</td>\n",
       "      <td>379.200000</td>\n",
       "      <td>Four-Door Car</td>\n",
       "      <td>Medsize</td>\n",
       "    </tr>\n",
       "    <tr>\n",
       "      <th>9131</th>\n",
       "      <td>TD14365</td>\n",
       "      <td>California</td>\n",
       "      <td>8163.890428</td>\n",
       "      <td>No</td>\n",
       "      <td>Extended</td>\n",
       "      <td>Bachelor</td>\n",
       "      <td>2011-02-06</td>\n",
       "      <td>Unemployed</td>\n",
       "      <td>M</td>\n",
       "      <td>0</td>\n",
       "      <td>...</td>\n",
       "      <td>37</td>\n",
       "      <td>3</td>\n",
       "      <td>2</td>\n",
       "      <td>Corporate Auto</td>\n",
       "      <td>Corporate L2</td>\n",
       "      <td>Offer1</td>\n",
       "      <td>Branch</td>\n",
       "      <td>790.784983</td>\n",
       "      <td>Four-Door Car</td>\n",
       "      <td>Medsize</td>\n",
       "    </tr>\n",
       "    <tr>\n",
       "      <th>9132</th>\n",
       "      <td>UP19263</td>\n",
       "      <td>California</td>\n",
       "      <td>7524.442436</td>\n",
       "      <td>No</td>\n",
       "      <td>Extended</td>\n",
       "      <td>College</td>\n",
       "      <td>2011-02-03</td>\n",
       "      <td>Employed</td>\n",
       "      <td>M</td>\n",
       "      <td>21941</td>\n",
       "      <td>...</td>\n",
       "      <td>3</td>\n",
       "      <td>0</td>\n",
       "      <td>3</td>\n",
       "      <td>Personal Auto</td>\n",
       "      <td>Personal L2</td>\n",
       "      <td>Offer3</td>\n",
       "      <td>Branch</td>\n",
       "      <td>691.200000</td>\n",
       "      <td>Four-Door Car</td>\n",
       "      <td>Large</td>\n",
       "    </tr>\n",
       "    <tr>\n",
       "      <th>9133</th>\n",
       "      <td>Y167826</td>\n",
       "      <td>California</td>\n",
       "      <td>2611.836866</td>\n",
       "      <td>No</td>\n",
       "      <td>Extended</td>\n",
       "      <td>College</td>\n",
       "      <td>2011-02-14</td>\n",
       "      <td>Unemployed</td>\n",
       "      <td>M</td>\n",
       "      <td>0</td>\n",
       "      <td>...</td>\n",
       "      <td>90</td>\n",
       "      <td>0</td>\n",
       "      <td>1</td>\n",
       "      <td>Corporate Auto</td>\n",
       "      <td>Corporate L3</td>\n",
       "      <td>Offer4</td>\n",
       "      <td>Call Center</td>\n",
       "      <td>369.600000</td>\n",
       "      <td>Two-Door Car</td>\n",
       "      <td>Medsize</td>\n",
       "    </tr>\n",
       "  </tbody>\n",
       "</table>\n",
       "<p>8317 rows × 24 columns</p>\n",
       "</div>"
      ],
      "text/plain": [
       "     customer       state  customer_lifetime_value response  coverage  \\\n",
       "0     BU79786  Washington              2763.519279       No     Basic   \n",
       "1     QZ44356     Arizona              6979.535903       No  Extended   \n",
       "2     AI49188      Nevada             12887.431650       No   Premium   \n",
       "3     WW63253  California              7645.861827       No     Basic   \n",
       "4     HB64268  Washington              2813.692575       No     Basic   \n",
       "...       ...         ...                      ...      ...       ...   \n",
       "9128  YM19146  California              4100.398533       No   Premium   \n",
       "9130  PK87824  California              3096.511217      Yes  Extended   \n",
       "9131  TD14365  California              8163.890428       No  Extended   \n",
       "9132  UP19263  California              7524.442436       No  Extended   \n",
       "9133  Y167826  California              2611.836866       No  Extended   \n",
       "\n",
       "     education effective_to_date employmentstatus gender  income  ...  \\\n",
       "0     Bachelor        2011-02-24         Employed      F   56274  ...   \n",
       "1     Bachelor        2011-01-31       Unemployed      F       0  ...   \n",
       "2     Bachelor        2011-02-19         Employed      F   48767  ...   \n",
       "3     Bachelor        2011-01-20       Unemployed      M       0  ...   \n",
       "4     Bachelor        2011-02-03         Employed      M   43836  ...   \n",
       "...        ...               ...              ...    ...     ...  ...   \n",
       "9128   College        2011-01-06         Employed      F   47761  ...   \n",
       "9130   College        2011-02-12         Employed      F   21604  ...   \n",
       "9131  Bachelor        2011-02-06       Unemployed      M       0  ...   \n",
       "9132   College        2011-02-03         Employed      M   21941  ...   \n",
       "9133   College        2011-02-14       Unemployed      M       0  ...   \n",
       "\n",
       "     months_since_policy_inception number_of_open_complaints  \\\n",
       "0                                5                         0   \n",
       "1                               42                         0   \n",
       "2                               38                         0   \n",
       "3                               65                         0   \n",
       "4                               44                         0   \n",
       "...                            ...                       ...   \n",
       "9128                            58                         0   \n",
       "9130                            28                         0   \n",
       "9131                            37                         3   \n",
       "9132                             3                         0   \n",
       "9133                            90                         0   \n",
       "\n",
       "      number_of_policies     policy_type        policy  renew_offer_type  \\\n",
       "0                      1  Corporate Auto  Corporate L3            Offer1   \n",
       "1                      8   Personal Auto   Personal L3            Offer3   \n",
       "2                      2   Personal Auto   Personal L3            Offer1   \n",
       "3                      7  Corporate Auto  Corporate L2            Offer1   \n",
       "4                      1   Personal Auto   Personal L1            Offer1   \n",
       "...                  ...             ...           ...               ...   \n",
       "9128                   1   Personal Auto   Personal L2            Offer1   \n",
       "9130                   1  Corporate Auto  Corporate L3            Offer1   \n",
       "9131                   2  Corporate Auto  Corporate L2            Offer1   \n",
       "9132                   3   Personal Auto   Personal L2            Offer3   \n",
       "9133                   1  Corporate Auto  Corporate L3            Offer4   \n",
       "\n",
       "      sales_channel total_claim_amount  vehicle_class vehicle_size  \n",
       "0             Agent         384.811147   Two-Door Car      Medsize  \n",
       "1             Agent        1131.464935  Four-Door Car      Medsize  \n",
       "2             Agent         566.472247   Two-Door Car      Medsize  \n",
       "3       Call Center         529.881344            SUV      Medsize  \n",
       "4             Agent         138.130879  Four-Door Car      Medsize  \n",
       "...             ...                ...            ...          ...  \n",
       "9128         Branch         541.282007  Four-Door Car        Large  \n",
       "9130         Branch         379.200000  Four-Door Car      Medsize  \n",
       "9131         Branch         790.784983  Four-Door Car      Medsize  \n",
       "9132         Branch         691.200000  Four-Door Car        Large  \n",
       "9133    Call Center         369.600000   Two-Door Car      Medsize  \n",
       "\n",
       "[8317 rows x 24 columns]"
      ]
     },
     "execution_count": 269,
     "metadata": {},
     "output_type": "execute_result"
    }
   ],
   "source": [
    "iqr = np.percentile(data['customer_lifetime_value'],75) - np.percentile(data['customer_lifetime_value'],25)\n",
    "\n",
    "np.percentile(data['customer_lifetime_value'],25),np.percentile(data['customer_lifetime_value'],75)\n",
    "\n",
    "upper_limit = np.percentile(data['customer_lifetime_value'],75) + 1.5*iqr\n",
    "\n",
    "data2 = data[(data['customer_lifetime_value']< upper_limit)]\n",
    "data2"
   ]
  },
  {
   "cell_type": "markdown",
   "id": "8c44f9c3",
   "metadata": {},
   "source": [
    "### 4. Processing Data\n",
    "\n",
    "(_Further processing..._)\n",
    "\n",
    "- X-y split.\n",
    "- Normalize (numerical)."
   ]
  },
  {
   "cell_type": "code",
   "execution_count": 270,
   "id": "748df6bc",
   "metadata": {},
   "outputs": [],
   "source": [
    "data2 = data1.copy()"
   ]
  },
  {
   "cell_type": "code",
   "execution_count": 271,
   "id": "d7887257",
   "metadata": {},
   "outputs": [
    {
     "name": "stdout",
     "output_type": "stream",
     "text": [
      "<class 'pandas.core.frame.DataFrame'>\n",
      "RangeIndex: 9134 entries, 0 to 9133\n",
      "Data columns (total 24 columns):\n",
      " #   Column                         Non-Null Count  Dtype         \n",
      "---  ------                         --------------  -----         \n",
      " 0   customer                       9134 non-null   object        \n",
      " 1   state                          9134 non-null   object        \n",
      " 2   customer_lifetime_value        9134 non-null   float64       \n",
      " 3   response                       9134 non-null   object        \n",
      " 4   coverage                       9134 non-null   object        \n",
      " 5   education                      9134 non-null   object        \n",
      " 6   effective_to_date              9134 non-null   datetime64[ns]\n",
      " 7   employmentstatus               9134 non-null   object        \n",
      " 8   gender                         9134 non-null   object        \n",
      " 9   income                         9134 non-null   int64         \n",
      " 10  location_code                  9134 non-null   object        \n",
      " 11  marital_status                 9134 non-null   object        \n",
      " 12  monthly_premium_auto           9134 non-null   int64         \n",
      " 13  months_since_last_claim        9134 non-null   int64         \n",
      " 14  months_since_policy_inception  9134 non-null   int64         \n",
      " 15  number_of_open_complaints      9134 non-null   int64         \n",
      " 16  number_of_policies             9134 non-null   int64         \n",
      " 17  policy_type                    9134 non-null   object        \n",
      " 18  policy                         9134 non-null   object        \n",
      " 19  renew_offer_type               9134 non-null   object        \n",
      " 20  sales_channel                  9134 non-null   object        \n",
      " 21  total_claim_amount             9134 non-null   float64       \n",
      " 22  vehicle_class                  9134 non-null   object        \n",
      " 23  vehicle_size                   9134 non-null   object        \n",
      "dtypes: datetime64[ns](1), float64(2), int64(6), object(15)\n",
      "memory usage: 1.7+ MB\n"
     ]
    }
   ],
   "source": [
    "data2.info()"
   ]
  },
  {
   "cell_type": "code",
   "execution_count": 272,
   "id": "8b0d4a68",
   "metadata": {},
   "outputs": [
    {
     "data": {
      "text/html": [
       "<div>\n",
       "<style scoped>\n",
       "    .dataframe tbody tr th:only-of-type {\n",
       "        vertical-align: middle;\n",
       "    }\n",
       "\n",
       "    .dataframe tbody tr th {\n",
       "        vertical-align: top;\n",
       "    }\n",
       "\n",
       "    .dataframe thead th {\n",
       "        text-align: right;\n",
       "    }\n",
       "</style>\n",
       "<table border=\"1\" class=\"dataframe\">\n",
       "  <thead>\n",
       "    <tr style=\"text-align: right;\">\n",
       "      <th></th>\n",
       "      <th>customer_lifetime_value</th>\n",
       "      <th>income</th>\n",
       "      <th>monthly_premium_auto</th>\n",
       "      <th>months_since_last_claim</th>\n",
       "      <th>months_since_policy_inception</th>\n",
       "      <th>number_of_open_complaints</th>\n",
       "      <th>number_of_policies</th>\n",
       "      <th>total_claim_amount</th>\n",
       "    </tr>\n",
       "  </thead>\n",
       "  <tbody>\n",
       "    <tr>\n",
       "      <th>count</th>\n",
       "      <td>9134.000000</td>\n",
       "      <td>9134.000000</td>\n",
       "      <td>9134.000000</td>\n",
       "      <td>9134.000000</td>\n",
       "      <td>9134.000000</td>\n",
       "      <td>9134.000000</td>\n",
       "      <td>9134.000000</td>\n",
       "      <td>9134.000000</td>\n",
       "    </tr>\n",
       "    <tr>\n",
       "      <th>mean</th>\n",
       "      <td>8004.940475</td>\n",
       "      <td>37657.380009</td>\n",
       "      <td>93.219291</td>\n",
       "      <td>15.097000</td>\n",
       "      <td>48.064594</td>\n",
       "      <td>0.384388</td>\n",
       "      <td>2.966170</td>\n",
       "      <td>434.088794</td>\n",
       "    </tr>\n",
       "    <tr>\n",
       "      <th>std</th>\n",
       "      <td>6870.967608</td>\n",
       "      <td>30379.904734</td>\n",
       "      <td>34.407967</td>\n",
       "      <td>10.073257</td>\n",
       "      <td>27.905991</td>\n",
       "      <td>0.910384</td>\n",
       "      <td>2.390182</td>\n",
       "      <td>290.500092</td>\n",
       "    </tr>\n",
       "    <tr>\n",
       "      <th>min</th>\n",
       "      <td>1898.007675</td>\n",
       "      <td>0.000000</td>\n",
       "      <td>61.000000</td>\n",
       "      <td>0.000000</td>\n",
       "      <td>0.000000</td>\n",
       "      <td>0.000000</td>\n",
       "      <td>1.000000</td>\n",
       "      <td>0.099007</td>\n",
       "    </tr>\n",
       "    <tr>\n",
       "      <th>25%</th>\n",
       "      <td>3994.251794</td>\n",
       "      <td>0.000000</td>\n",
       "      <td>68.000000</td>\n",
       "      <td>6.000000</td>\n",
       "      <td>24.000000</td>\n",
       "      <td>0.000000</td>\n",
       "      <td>1.000000</td>\n",
       "      <td>272.258244</td>\n",
       "    </tr>\n",
       "    <tr>\n",
       "      <th>50%</th>\n",
       "      <td>5780.182197</td>\n",
       "      <td>33889.500000</td>\n",
       "      <td>83.000000</td>\n",
       "      <td>14.000000</td>\n",
       "      <td>48.000000</td>\n",
       "      <td>0.000000</td>\n",
       "      <td>2.000000</td>\n",
       "      <td>383.945434</td>\n",
       "    </tr>\n",
       "    <tr>\n",
       "      <th>75%</th>\n",
       "      <td>8962.167041</td>\n",
       "      <td>62320.000000</td>\n",
       "      <td>109.000000</td>\n",
       "      <td>23.000000</td>\n",
       "      <td>71.000000</td>\n",
       "      <td>0.000000</td>\n",
       "      <td>4.000000</td>\n",
       "      <td>547.514839</td>\n",
       "    </tr>\n",
       "    <tr>\n",
       "      <th>max</th>\n",
       "      <td>83325.381190</td>\n",
       "      <td>99981.000000</td>\n",
       "      <td>298.000000</td>\n",
       "      <td>35.000000</td>\n",
       "      <td>99.000000</td>\n",
       "      <td>5.000000</td>\n",
       "      <td>9.000000</td>\n",
       "      <td>2893.239678</td>\n",
       "    </tr>\n",
       "  </tbody>\n",
       "</table>\n",
       "</div>"
      ],
      "text/plain": [
       "       customer_lifetime_value        income  monthly_premium_auto  \\\n",
       "count              9134.000000   9134.000000           9134.000000   \n",
       "mean               8004.940475  37657.380009             93.219291   \n",
       "std                6870.967608  30379.904734             34.407967   \n",
       "min                1898.007675      0.000000             61.000000   \n",
       "25%                3994.251794      0.000000             68.000000   \n",
       "50%                5780.182197  33889.500000             83.000000   \n",
       "75%                8962.167041  62320.000000            109.000000   \n",
       "max               83325.381190  99981.000000            298.000000   \n",
       "\n",
       "       months_since_last_claim  months_since_policy_inception  \\\n",
       "count              9134.000000                    9134.000000   \n",
       "mean                 15.097000                      48.064594   \n",
       "std                  10.073257                      27.905991   \n",
       "min                   0.000000                       0.000000   \n",
       "25%                   6.000000                      24.000000   \n",
       "50%                  14.000000                      48.000000   \n",
       "75%                  23.000000                      71.000000   \n",
       "max                  35.000000                      99.000000   \n",
       "\n",
       "       number_of_open_complaints  number_of_policies  total_claim_amount  \n",
       "count                9134.000000         9134.000000         9134.000000  \n",
       "mean                    0.384388            2.966170          434.088794  \n",
       "std                     0.910384            2.390182          290.500092  \n",
       "min                     0.000000            1.000000            0.099007  \n",
       "25%                     0.000000            1.000000          272.258244  \n",
       "50%                     0.000000            2.000000          383.945434  \n",
       "75%                     0.000000            4.000000          547.514839  \n",
       "max                     5.000000            9.000000         2893.239678  "
      ]
     },
     "execution_count": 272,
     "metadata": {},
     "output_type": "execute_result"
    }
   ],
   "source": [
    "data2.describe()"
   ]
  },
  {
   "cell_type": "code",
   "execution_count": 273,
   "id": "7fafb478",
   "metadata": {},
   "outputs": [
    {
     "data": {
      "text/plain": [
       "Index(['customer_lifetime_value', 'income', 'monthly_premium_auto',\n",
       "       'months_since_last_claim', 'months_since_policy_inception',\n",
       "       'number_of_open_complaints', 'number_of_policies',\n",
       "       'total_claim_amount'],\n",
       "      dtype='object')"
      ]
     },
     "execution_count": 273,
     "metadata": {},
     "output_type": "execute_result"
    }
   ],
   "source": [
    "numerical2 = data1.select_dtypes(np.number)\n",
    "numerical2.columns"
   ]
  },
  {
   "cell_type": "code",
   "execution_count": 274,
   "id": "5170149b",
   "metadata": {},
   "outputs": [
    {
     "name": "stdout",
     "output_type": "stream",
     "text": [
      "                            OLS Regression Results                            \n",
      "==============================================================================\n",
      "Dep. Variable:     total_claim_amount   R-squared:                       0.519\n",
      "Model:                            OLS   Adj. R-squared:                  0.518\n",
      "Method:                 Least Squares   F-statistic:                     1405.\n",
      "Date:                Fri, 11 Jun 2021   Prob (F-statistic):               0.00\n",
      "Time:                        21:43:30   Log-Likelihood:                -61425.\n",
      "No. Observations:                9134   AIC:                         1.229e+05\n",
      "Df Residuals:                    9126   BIC:                         1.229e+05\n",
      "Df Model:                           7                                         \n",
      "Covariance Type:            nonrobust                                         \n",
      "=================================================================================================\n",
      "                                    coef    std err          t      P>|t|      [0.025      0.975]\n",
      "-------------------------------------------------------------------------------------------------\n",
      "const                            72.3910      8.744      8.279      0.000      55.252      89.530\n",
      "customer_lifetime_value          -0.0007      0.000     -2.014      0.044      -0.001   -1.81e-05\n",
      "income                           -0.0033   6.95e-05    -47.370      0.000      -0.003      -0.003\n",
      "monthly_premium_auto              5.3425      0.067     79.934      0.000       5.212       5.474\n",
      "months_since_last_claim          -0.1457      0.210     -0.695      0.487      -0.557       0.265\n",
      "months_since_policy_inception    -0.1023      0.076     -1.352      0.176      -0.251       0.046\n",
      "number_of_open_complaints        -1.3716      2.319     -0.591      0.554      -5.918       3.174\n",
      "number_of_policies                0.2486      0.883      0.281      0.778      -1.483       1.980\n",
      "==============================================================================\n",
      "Omnibus:                      994.270   Durbin-Watson:                   1.980\n",
      "Prob(Omnibus):                  0.000   Jarque-Bera (JB):             6389.170\n",
      "Skew:                           0.316   Prob(JB):                         0.00\n",
      "Kurtosis:                       7.048   Cond. No.                     2.02e+05\n",
      "==============================================================================\n",
      "\n",
      "Notes:\n",
      "[1] Standard Errors assume that the covariance matrix of the errors is correctly specified.\n",
      "[2] The condition number is large, 2.02e+05. This might indicate that there are\n",
      "strong multicollinearity or other numerical problems.\n"
     ]
    }
   ],
   "source": [
    "X = numerical2.drop(['total_claim_amount'], axis=1)\n",
    "y = numerical2['total_claim_amount']\n",
    "\n",
    "# with 'add_constant' we force the model to have an intercept\n",
    "X = sm.add_constant(X)\n",
    "\n",
    "model = sm.OLS(y,X).fit() # to train the model\n",
    "\n",
    "print(model.summary())"
   ]
  },
  {
   "cell_type": "markdown",
   "id": "632cccbc",
   "metadata": {},
   "source": [
    "## Normalise"
   ]
  },
  {
   "cell_type": "code",
   "execution_count": 275,
   "id": "882df68b",
   "metadata": {},
   "outputs": [],
   "source": [
    "X_num = X.select_dtypes(include = np.number)\n",
    "X_cat = X.select_dtypes(include = np.object)"
   ]
  },
  {
   "cell_type": "code",
   "execution_count": 276,
   "id": "73fdd358",
   "metadata": {},
   "outputs": [
    {
     "data": {
      "text/plain": [
       "(9134, 8)"
      ]
     },
     "execution_count": 276,
     "metadata": {},
     "output_type": "execute_result"
    }
   ],
   "source": [
    "import pickle\n",
    "\n",
    "# Normalizing data\n",
    "transformer = Normalizer() \n",
    "transformer.fit(X_num)\n",
    "\n",
    "# When Normalizing with encoded categorical data, you'll lose some information on the categories.\n",
    "# When Normalizing only numericals, you'll be losing proportion between numericals and encoded categories.\n",
    "\n",
    "with open('transformer.pkl', 'wb') as file:\n",
    "    pickle.dump(transformer, file)\n",
    "\n",
    "with open('transformer.pkl', 'rb') as file:\n",
    "    transformer = pickle.load(file)\n",
    "\n",
    "x_normalized = transformer.transform(X_num)\n",
    "#pd.DataFrame(x_normalized)\n",
    "x_normalized.shape"
   ]
  },
  {
   "cell_type": "code",
   "execution_count": 210,
   "id": "b78db71a",
   "metadata": {},
   "outputs": [
    {
     "data": {
      "text/html": [
       "<div>\n",
       "<style scoped>\n",
       "    .dataframe tbody tr th:only-of-type {\n",
       "        vertical-align: middle;\n",
       "    }\n",
       "\n",
       "    .dataframe tbody tr th {\n",
       "        vertical-align: top;\n",
       "    }\n",
       "\n",
       "    .dataframe thead th {\n",
       "        text-align: right;\n",
       "    }\n",
       "</style>\n",
       "<table border=\"1\" class=\"dataframe\">\n",
       "  <thead>\n",
       "    <tr style=\"text-align: right;\">\n",
       "      <th></th>\n",
       "      <th>0</th>\n",
       "      <th>1</th>\n",
       "      <th>2</th>\n",
       "      <th>3</th>\n",
       "      <th>4</th>\n",
       "      <th>5</th>\n",
       "      <th>6</th>\n",
       "      <th>7</th>\n",
       "    </tr>\n",
       "  </thead>\n",
       "  <tbody>\n",
       "    <tr>\n",
       "      <th>0</th>\n",
       "      <td>0.000018</td>\n",
       "      <td>0.049049</td>\n",
       "      <td>0.998795</td>\n",
       "      <td>0.001225</td>\n",
       "      <td>0.000568</td>\n",
       "      <td>0.000089</td>\n",
       "      <td>0.000000</td>\n",
       "      <td>0.000018</td>\n",
       "    </tr>\n",
       "    <tr>\n",
       "      <th>1</th>\n",
       "      <td>0.000143</td>\n",
       "      <td>0.999889</td>\n",
       "      <td>0.000000</td>\n",
       "      <td>0.013466</td>\n",
       "      <td>0.001862</td>\n",
       "      <td>0.006017</td>\n",
       "      <td>0.000000</td>\n",
       "      <td>0.001146</td>\n",
       "    </tr>\n",
       "    <tr>\n",
       "      <th>2</th>\n",
       "      <td>0.000020</td>\n",
       "      <td>0.255494</td>\n",
       "      <td>0.966808</td>\n",
       "      <td>0.002141</td>\n",
       "      <td>0.000357</td>\n",
       "      <td>0.000753</td>\n",
       "      <td>0.000000</td>\n",
       "      <td>0.000040</td>\n",
       "    </tr>\n",
       "    <tr>\n",
       "      <th>3</th>\n",
       "      <td>0.000131</td>\n",
       "      <td>0.999865</td>\n",
       "      <td>0.000000</td>\n",
       "      <td>0.013862</td>\n",
       "      <td>0.002354</td>\n",
       "      <td>0.008500</td>\n",
       "      <td>0.000000</td>\n",
       "      <td>0.000915</td>\n",
       "    </tr>\n",
       "    <tr>\n",
       "      <th>4</th>\n",
       "      <td>0.000023</td>\n",
       "      <td>0.064055</td>\n",
       "      <td>0.997944</td>\n",
       "      <td>0.001662</td>\n",
       "      <td>0.000273</td>\n",
       "      <td>0.001002</td>\n",
       "      <td>0.000000</td>\n",
       "      <td>0.000023</td>\n",
       "    </tr>\n",
       "    <tr>\n",
       "      <th>...</th>\n",
       "      <td>...</td>\n",
       "      <td>...</td>\n",
       "      <td>...</td>\n",
       "      <td>...</td>\n",
       "      <td>...</td>\n",
       "      <td>...</td>\n",
       "      <td>...</td>\n",
       "      <td>...</td>\n",
       "    </tr>\n",
       "    <tr>\n",
       "      <th>9129</th>\n",
       "      <td>0.000013</td>\n",
       "      <td>0.309387</td>\n",
       "      <td>0.950935</td>\n",
       "      <td>0.000965</td>\n",
       "      <td>0.000238</td>\n",
       "      <td>0.001176</td>\n",
       "      <td>0.000000</td>\n",
       "      <td>0.000026</td>\n",
       "    </tr>\n",
       "    <tr>\n",
       "      <th>9130</th>\n",
       "      <td>0.000046</td>\n",
       "      <td>0.141879</td>\n",
       "      <td>0.989876</td>\n",
       "      <td>0.003620</td>\n",
       "      <td>0.000641</td>\n",
       "      <td>0.001283</td>\n",
       "      <td>0.000000</td>\n",
       "      <td>0.000046</td>\n",
       "    </tr>\n",
       "    <tr>\n",
       "      <th>9131</th>\n",
       "      <td>0.000122</td>\n",
       "      <td>0.999935</td>\n",
       "      <td>0.000000</td>\n",
       "      <td>0.010411</td>\n",
       "      <td>0.001102</td>\n",
       "      <td>0.004532</td>\n",
       "      <td>0.000367</td>\n",
       "      <td>0.000245</td>\n",
       "    </tr>\n",
       "    <tr>\n",
       "      <th>9132</th>\n",
       "      <td>0.000043</td>\n",
       "      <td>0.324391</td>\n",
       "      <td>0.945913</td>\n",
       "      <td>0.004139</td>\n",
       "      <td>0.001466</td>\n",
       "      <td>0.000129</td>\n",
       "      <td>0.000000</td>\n",
       "      <td>0.000129</td>\n",
       "    </tr>\n",
       "    <tr>\n",
       "      <th>9133</th>\n",
       "      <td>0.000382</td>\n",
       "      <td>0.998973</td>\n",
       "      <td>0.000000</td>\n",
       "      <td>0.029451</td>\n",
       "      <td>0.001147</td>\n",
       "      <td>0.034423</td>\n",
       "      <td>0.000000</td>\n",
       "      <td>0.000382</td>\n",
       "    </tr>\n",
       "  </tbody>\n",
       "</table>\n",
       "<p>9134 rows × 8 columns</p>\n",
       "</div>"
      ],
      "text/plain": [
       "             0         1         2         3         4         5         6  \\\n",
       "0     0.000018  0.049049  0.998795  0.001225  0.000568  0.000089  0.000000   \n",
       "1     0.000143  0.999889  0.000000  0.013466  0.001862  0.006017  0.000000   \n",
       "2     0.000020  0.255494  0.966808  0.002141  0.000357  0.000753  0.000000   \n",
       "3     0.000131  0.999865  0.000000  0.013862  0.002354  0.008500  0.000000   \n",
       "4     0.000023  0.064055  0.997944  0.001662  0.000273  0.001002  0.000000   \n",
       "...        ...       ...       ...       ...       ...       ...       ...   \n",
       "9129  0.000013  0.309387  0.950935  0.000965  0.000238  0.001176  0.000000   \n",
       "9130  0.000046  0.141879  0.989876  0.003620  0.000641  0.001283  0.000000   \n",
       "9131  0.000122  0.999935  0.000000  0.010411  0.001102  0.004532  0.000367   \n",
       "9132  0.000043  0.324391  0.945913  0.004139  0.001466  0.000129  0.000000   \n",
       "9133  0.000382  0.998973  0.000000  0.029451  0.001147  0.034423  0.000000   \n",
       "\n",
       "             7  \n",
       "0     0.000018  \n",
       "1     0.001146  \n",
       "2     0.000040  \n",
       "3     0.000915  \n",
       "4     0.000023  \n",
       "...        ...  \n",
       "9129  0.000026  \n",
       "9130  0.000046  \n",
       "9131  0.000245  \n",
       "9132  0.000129  \n",
       "9133  0.000382  \n",
       "\n",
       "[9134 rows x 8 columns]"
      ]
     },
     "execution_count": 210,
     "metadata": {},
     "output_type": "execute_result"
    }
   ],
   "source": [
    "pd.DataFrame(x_normalized)"
   ]
  }
 ],
 "metadata": {
  "kernelspec": {
   "display_name": "Python 3",
   "language": "python",
   "name": "python3"
  },
  "language_info": {
   "codemirror_mode": {
    "name": "ipython",
    "version": 3
   },
   "file_extension": ".py",
   "mimetype": "text/x-python",
   "name": "python",
   "nbconvert_exporter": "python",
   "pygments_lexer": "ipython3",
   "version": "3.8.8"
  }
 },
 "nbformat": 4,
 "nbformat_minor": 5
}
